{
 "metadata": {
  "language_info": {
   "codemirror_mode": {
    "name": "ipython",
    "version": 3
   },
   "file_extension": ".py",
   "mimetype": "text/x-python",
   "name": "python",
   "nbconvert_exporter": "python",
   "pygments_lexer": "ipython3",
   "version": "3.8.8-final"
  },
  "orig_nbformat": 2,
  "kernelspec": {
   "name": "python388jvsc74a57bd0c72a629dba5ae9edebcad565c17c3988d814021371aabb3db62cb04d2b10dbfe",
   "display_name": "Python 3.8.8 64-bit (conda)"
  }
 },
 "nbformat": 4,
 "nbformat_minor": 2,
 "cells": [
  {
   "source": [
    "# Limites"
   ],
   "cell_type": "markdown",
   "metadata": {}
  },
  {
   "cell_type": "code",
   "execution_count": 2,
   "metadata": {},
   "outputs": [
    {
     "output_type": "stream",
     "name": "stdout",
     "text": [
      "Limite derecho oo\nlimite izquierdo -oo\n"
     ]
    }
   ],
   "source": [
    "from sympy import limit, symbols\n",
    "from sympy.abc import x\n",
    "\n",
    "l = limit(1/x, x, 0, '+')\n",
    "print('Limite derecho', l)\n",
    "\n",
    "\n",
    "l = limit(1/x, x, 0, '-')\n",
    "print('limite izquierdo', l)\n",
    "\n"
   ]
  },
  {
   "source": [
    "# Derivadas"
   ],
   "cell_type": "markdown",
   "metadata": {}
  },
  {
   "cell_type": "code",
   "execution_count": 3,
   "metadata": {},
   "outputs": [
    {
     "output_type": "stream",
     "name": "stdout",
     "text": [
      "\n",
      " la ecuacion debe estar en funcion de (x)\n",
      "La derivada de f(x) es:  12*x**3\n"
     ]
    }
   ],
   "source": [
    "import sympy as sp\n",
    "from sympy.abc import x\n",
    "\n",
    "\n",
    "def derivada(expr):\n",
    "    funcion = sp.Derivative(expr,  evaluate=True)\n",
    "    print(f'La derivada de f(x) es:  {funcion}')\n",
    "\n",
    "if __name__ == '__main__':\n",
    "    print('\\n la ecuacion debe estar en funcion de (x)')\n",
    "    expr = input(\"Funcion a evaluar:  f(x)= \")\n",
    "    derivada(expr)\n",
    "\n"
   ]
  },
  {
   "source": [
    "# Derivadas parciales"
   ],
   "cell_type": "markdown",
   "metadata": {}
  },
  {
   "cell_type": "code",
   "execution_count": 5,
   "metadata": {},
   "outputs": [
    {
     "output_type": "stream",
     "name": "stdout",
     "text": [
      "La derivada parcial df/dx =  3\nLa derivada parcial df/dy =  5**y*log(5)\nLa derivada parcial df/dz =  0\n"
     ]
    }
   ],
   "source": [
    "import sympy as sp\n",
    "\n",
    "def derivada(expr, variables):\n",
    "    for der_respect in variables:\n",
    "        var = sp.Symbol(f'{der_respect}')\n",
    "        funcion = sp.Derivative(expr, var, evaluate=True)\n",
    "        print(f'La derivada parcial df/d{der_respect} =  {funcion}')\n",
    "\n",
    "\n",
    "if __name__ == '__main__':\n",
    "    variables = ['x', 'y', 'z']\n",
    "    expr = input(\"\\nFuncion a evaluar:    f(x,y,z)= \")\n",
    "    derivada(expr, variables)"
   ]
  },
  {
   "cell_type": "code",
   "execution_count": null,
   "metadata": {},
   "outputs": [],
   "source": []
  }
 ]
}